{
 "cells": [
  {
   "cell_type": "code",
   "execution_count": 64,
   "metadata": {},
   "outputs": [],
   "source": [
    "%matplotlib inline\n",
    "import matplotlib.pyplot as plt\n",
    "import numpy as np\n",
    "import celerite\n",
    "from celerite import terms"
   ]
  },
  {
   "cell_type": "code",
   "execution_count": 65,
   "metadata": {},
   "outputs": [],
   "source": [
    "parameter_vector = np.loadtxt('parameter_vector.txt')"
   ]
  },
  {
   "cell_type": "code",
   "execution_count": 66,
   "metadata": {},
   "outputs": [],
   "source": [
    "nterms = len(parameter_vector)//3\n",
    "\n",
    "kernel = terms.SHOTerm(log_S0=0, log_omega0=0, log_Q=0) \n",
    "\n",
    "for term in range(nterms-1): \n",
    "    \n",
    "    kernel += terms.SHOTerm(log_S0=0, log_omega0=0, log_Q=0)"
   ]
  },
  {
   "cell_type": "code",
   "execution_count": 101,
   "metadata": {},
   "outputs": [
    {
     "name": "stdout",
     "output_type": "stream",
     "text": [
      "3098.3139544717865\n"
     ]
    },
    {
     "data": {
      "text/plain": [
       "[Text(0,0.5,'Power'), Text(0.5,0,'$\\\\mu$Hz')]"
      ]
     },
     "execution_count": 101,
     "metadata": {},
     "output_type": "execute_result"
    },
    {
     "data": {
      "image/png": "[encoded data removed]",
      "text/plain": [
       "<Figure size 432x288 with 1 Axes>"
      ]
     },
     "metadata": {},
     "output_type": "display_data"
    }
   ],
   "source": [
    "tunable_amps = np.exp(parameter_vector[::3][2:])\n",
    "tunable_freqs = np.exp(parameter_vector[2::3][2:]) * 1e6/2/np.pi\n",
    "\n",
    "peak_ind = np.argmax(tunable_amps)\n",
    "peak_freq = tunable_freqs[peak_ind]\n",
    "delta_freqs = tunable_freqs - peak_freq\n",
    "\n",
    "plt.plot(tunable_freqs, tunable_amps, '.')\n",
    "plt.plot(peak_freq, tunable_amps[peak_ind], 's')\n",
    "print(peak_freq)\n",
    "plt.gca().set(xlabel='$\\mu$Hz', ylabel='Power')"
   ]
  },
  {
   "cell_type": "markdown",
   "metadata": {},
   "source": [
    "\n",
    "From Kjeldsen & Bedding (1995) and Huber et al. (2011): \n",
    "\n",
    "$$ \\nu_\\textrm{max} \\approx \\frac{M / M_\\odot (T_\\textrm{eff}/T_{\\textrm{eff},\\odot})^{3.5} }{L/L_\\odot} \\nu_{\\textrm{max}, \\odot} $$\n",
    "\n",
    "$$ \\Delta \\nu_\\textrm{max} \\approx \\frac{(M / M_\\odot)^{0.5} (T_\\textrm{eff}/T_{\\textrm{eff},\\odot})^{3} }{(L/L_\\odot)^{0.75}} \\Delta \\nu_{\\odot} $$"
   ]
  },
  {
   "cell_type": "code",
   "execution_count": 120,
   "metadata": {},
   "outputs": [
    {
     "data": {
      "text/plain": [
       "3098.3139544717865"
      ]
     },
     "execution_count": 120,
     "metadata": {},
     "output_type": "execute_result"
    }
   ],
   "source": [
    "peak_freq"
   ]
  },
  {
   "cell_type": "code",
   "execution_count": 111,
   "metadata": {},
   "outputs": [
    {
     "data": {
      "text/plain": [
       "(<Quantity 5823.96497599 uHz>, <Quantity 224.14395214 uHz>)"
      ]
     },
     "execution_count": 111,
     "metadata": {},
     "output_type": "execute_result"
    }
   ],
   "source": [
    "import astropy.units as u\n",
    "from astropy.constants import L_sun, M_sun\n",
    "\n",
    "T_eff_solar = 5777 * u.K \n",
    "nu_max_sun = peak_freq * u.uHz\n",
    "delta_nu_sun = 135.1 * u.uHz\n",
    "\n",
    "# # TRAPPIST-1: \n",
    "# M = 0.0802 * M_sun\n",
    "# T_eff = 2511 * u.K\n",
    "# L = 0.000524 * L_sun\n",
    "\n",
    "# Kepler-62 (Borucki 2013): \n",
    "M = 0.69 * M_sun\n",
    "T_eff = 4925 * u.K\n",
    "L = 0.21 * L_sun\n",
    "\n",
    "nu_max = ( (M/M_sun) * (T_eff/T_eff_solar)**3.5 / (L/L_sun) ) * nu_max_sun\n",
    "delta_nu_max = ( (M/M_sun)**0.5 * (T_eff/T_eff_solar)**3 / (L/L_sun)**0.75 ) * delta_nu_sun\n",
    "\n",
    "nu_max, delta_nu_max"
   ]
  },
  {
   "cell_type": "code",
   "execution_count": 112,
   "metadata": {},
   "outputs": [],
   "source": [
    "nu_factor = nu_max / nu_max_sun\n",
    "delta_nu_factor = delta_nu_max / delta_nu_sun\n",
    "\n",
    "nu_factor, delta_nu_factor\n",
    "\n",
    "new_peak_freq = nu_factor * peak_freq\n",
    "new_delta_freqs = delta_freqs * delta_nu_factor\n",
    "\n",
    "new_peak_freq, new_delta_freqs\n",
    "new_freqs = new_peak_freq + new_delta_freqs\n",
    "\n",
    "new_log_omegas = np.log(2*np.pi*new_freqs*1e-6).value\n",
    "\n",
    "parameter_vector[2::3][2:] = new_log_omegas"
   ]
  },
  {
   "cell_type": "code",
   "execution_count": 113,
   "metadata": {},
   "outputs": [],
   "source": [
    "kernel.set_parameter_vector(parameter_vector)"
   ]
  },
  {
   "cell_type": "code",
   "execution_count": 114,
   "metadata": {},
   "outputs": [],
   "source": [
    "gp = celerite.GP(kernel)\n",
    "\n",
    "# Naturally at 1 second cadence, skip to one minute cadence : \n",
    "x = np.arange(0, 1e6, 60) \n",
    "gp.compute(x, check_sorted=False)\n",
    "\n",
    "y = gp.sample(500)"
   ]
  },
  {
   "cell_type": "code",
   "execution_count": 115,
   "metadata": {},
   "outputs": [],
   "source": [
    "y_concatenated = []\n",
    "\n",
    "for i, yi in enumerate(y): \n",
    "    xi = np.arange(len(yi))\n",
    "    fit = np.polyval(np.polyfit(xi - xi.mean(), yi, 1), xi-xi.mean())\n",
    "    yi -= fit\n",
    "    \n",
    "    if i == 0: \n",
    "        y_concatenated.append(yi)\n",
    "    else: \n",
    "        offset = yi[0] - y_concatenated[i-1][-1]\n",
    "        y_concatenated.append(yi - offset)\n",
    "y_concatenated = np.hstack(y_concatenated)"
   ]
  },
  {
   "cell_type": "code",
   "execution_count": 116,
   "metadata": {},
   "outputs": [
    {
     "data": {
      "text/plain": [
       "Text(0,0.5,'Flux [ppm]')"
      ]
     },
     "execution_count": 116,
     "metadata": {},
     "output_type": "execute_result"
    },
    {
     "data": {
      "image/png": "[encoded data removed]",
      "text/plain": [
       "<Figure size 432x288 with 1 Axes>"
      ]
     },
     "metadata": {},
     "output_type": "display_data"
    }
   ],
   "source": [
    "plt.plot(1e6 * y_concatenated, ',')\n",
    "plt.ylabel('Flux [ppm]')"
   ]
  },
  {
   "cell_type": "code",
   "execution_count": 117,
   "metadata": {},
   "outputs": [
    {
     "data": {
      "text/plain": [
       "(0.01, 1000000.0)"
      ]
     },
     "execution_count": 117,
     "metadata": {},
     "output_type": "execute_result"
    },
    {
     "data": {
      "image/png": "[encoded data removed]",
      "text/plain": [
       "<Figure size 432x288 with 1 Axes>"
      ]
     },
     "metadata": {},
     "output_type": "display_data"
    }
   ],
   "source": [
    "from scipy.signal import periodogram\n",
    "\n",
    "ftest, Ptest = periodogram(y_concatenated, fs=1/60)\n",
    "\n",
    "plt.loglog(ftest * 1e6, Ptest, ',')\n",
    "plt.loglog(ftest * 1e6, 2*np.pi*kernel.get_psd(2*np.pi*ftest), alpha=0.7)\n",
    "plt.ylim([1e-10, 1e0])\n",
    "# plt.ylim([1e-8, 1e-5])\n",
    "plt.xlim([1e-2, 1e6])\n",
    "# plt.xlim([2000, 4000])"
   ]
  },
  {
   "cell_type": "code",
   "execution_count": null,
   "metadata": {},
   "outputs": [],
   "source": []
  }
 ],
 "metadata": {
  "kernelspec": {
   "display_name": "Python 3",
   "language": "python",
   "name": "python3"
  },
  "language_info": {
   "codemirror_mode": {
    "name": "ipython",
    "version": 3
   },
   "file_extension": ".py",
   "mimetype": "text/x-python",
   "name": "python",
   "nbconvert_exporter": "python",
   "pygments_lexer": "ipython3",
   "version": "3.5.4"
  }
 },
 "nbformat": 4,
 "nbformat_minor": 2
}
